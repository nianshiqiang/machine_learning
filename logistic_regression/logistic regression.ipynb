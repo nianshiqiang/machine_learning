{
 "cells": [
  {
   "cell_type": "markdown",
   "metadata": {},
   "source": [
    "<font size = 4>注：本文档中的代码和实例是在学习了《机器学习实战》第五章后总结的。</font>"
   ]
  },
  {
   "cell_type": "markdown",
   "metadata": {},
   "source": [
    "## logistic regression "
   ]
  },
  {
   "cell_type": "code",
   "execution_count": 103,
   "metadata": {
    "collapsed": true
   },
   "outputs": [],
   "source": [
    "import numpy as np\n",
    "import matplotlib.pyplot as plt\n",
    "from scipy.special import expit   #expit(x) = 1.0 / (1 + exp(-x))"
   ]
  },
  {
   "cell_type": "markdown",
   "metadata": {},
   "source": [
    "### 导入数据"
   ]
  },
  {
   "cell_type": "code",
   "execution_count": 104,
   "metadata": {
    "collapsed": true
   },
   "outputs": [],
   "source": [
    "#加载数据集\n",
    "def loadtext():\n",
    "    data = []\n",
    "    label = [] #定义两个空列表用于存储变量数据和标签数据\n",
    "    f = open(\"logistic regression testSet.txt\")\n",
    "    for line in f.readlines():\n",
    "        linearr = line.strip().split()#首先去掉空格，然后分隔字符\n",
    "        data.append([1.0,float(linearr[0]),float(linearr[1])])#注意：需要将字符串类型换为数值型\n",
    "        label.append(int(linearr[2]))\n",
    "    return data,label\n",
    "        \n",
    "    "
   ]
  },
  {
   "cell_type": "markdown",
   "metadata": {},
   "source": [
    "### 定义迭代公式（批处理梯度上升）"
   ]
  },
  {
   "cell_type": "code",
   "execution_count": 108,
   "metadata": {},
   "outputs": [],
   "source": [
    "def gradascent(variables,classlabels):\n",
    "    datamat = np.mat(variables)\n",
    "    labelmat = np.mat(classlabels).T #将输入的x变量和y变量转换为矩阵\n",
    "    m,n = np.shape(datamat)#得到矩阵的行数和列数\n",
    "    theta = np.ones((n,1))#定义初始theta值\n",
    "    alpha = 0.001\n",
    "    maxcycles = 500\n",
    "    for i in range(maxcycles):\n",
    "        h = expit(datamat * theta)\n",
    "        #print(h)\n",
    "        error = labelmat - h \n",
    "        theta = theta + alpha * datamat.T * error #迭代更新公式\n",
    "    return theta\n",
    "        \n",
    "        \n"
   ]
  },
  {
   "cell_type": "markdown",
   "metadata": {},
   "source": [
    "### 计算结果"
   ]
  },
  {
   "cell_type": "code",
   "execution_count": 112,
   "metadata": {},
   "outputs": [
    {
     "data": {
      "text/plain": [
       "matrix([[ 4.12414349],\n",
       "        [ 0.48007329],\n",
       "        [-0.6168482 ]])"
      ]
     },
     "execution_count": 112,
     "metadata": {},
     "output_type": "execute_result"
    }
   ],
   "source": [
    "data,label = loadtext()\n",
    "theta = gradascent(data,label)\n",
    "theta"
   ]
  },
  {
   "cell_type": "markdown",
   "metadata": {},
   "source": [
    "### 画出决策边界（分界线）"
   ]
  },
  {
   "cell_type": "code",
   "execution_count": 135,
   "metadata": {
    "collapsed": true
   },
   "outputs": [],
   "source": [
    "def plotline(theta):\n",
    "    dataarr = np.array(data)#转换为mumpy的array类型\n",
    "    n = np.shape(dataarr)[0]\n",
    "    x0 = []\n",
    "    y0 = []\n",
    "    x1 = []\n",
    "    y1 = []\n",
    "    for i in range(n):\n",
    "        if label[i] == 1:\n",
    "            x0.append(data[i][1])\n",
    "            y0.append(data[i][2]) #将标签值为1的数据存为1组值\n",
    "        else:\n",
    "            x1.append(data[i][1])\n",
    "            y1.append(data[i][2]) #将标签值为0的数据存为另一组值\n",
    "    #开始绘图\n",
    "    fig = plt.figure()\n",
    "    ax = fig.add_subplot(111)\n",
    "    ax.scatter(x0,y0,s = 30,c = \"red\")\n",
    "    ax.scatter(x1,y1,s = 30,c = \"green\") #绘制散点图\n",
    "    x = np.arange(-3.0,3.0,0.1)\n",
    "    #print(x)\n",
    "    theta = np.array(theta)#重要！！！必须将theta 转换为array类型才能进行运算\n",
    "    y = (-(theta[0])-theta[1] * x) / theta[2]\n",
    "    ax.plot(x,y)\n",
    "    plt.xlabel(\"X1\")\n",
    "    plt.ylabel(\"X2\")\n",
    "    plt.show()\n",
    "    "
   ]
  },
  {
   "cell_type": "code",
   "execution_count": 136,
   "metadata": {},
   "outputs": [
    {
     "data": {
      "image/png": "[encoded data removed]",
      "text/plain": [
       "<matplotlib.figure.Figure at 0x1eb77b670f0>"
      ]
     },
     "metadata": {},
     "output_type": "display_data"
    }
   ],
   "source": [
    "plotline(theta)"
   ]
  },
  {
   "cell_type": "markdown",
   "metadata": {},
   "source": [
    "### 随机梯度上升"
   ]
  },
  {
   "cell_type": "code",
   "execution_count": 156,
   "metadata": {
    "collapsed": true
   },
   "outputs": [],
   "source": [
    "def stocgradascent(variables,classlabels):\n",
    "    datamat = np.mat(variables)\n",
    "    labelmat = np.mat(classlabels).T #将输入的x变量和y变量转换为矩阵\n",
    "    m,n = np.shape(datamat)#得到矩阵的行数和列数\n",
    "    theta = np.ones((n,1))#定义初始theta值\n",
    "    alpha = 0.01\n",
    "    #maxcycles = 500\n",
    "    for i in range(m):#迭代次数为训练集的个数，重要！！\n",
    "        h = expit(datamat[i] * theta)#计算每一个训练样本的h值\n",
    "        error = labelmat[i] - h \n",
    "        theta = theta + alpha * datamat[i].T * error #迭代更新公式\n",
    "    return theta\n",
    "        "
   ]
  },
  {
   "cell_type": "code",
   "execution_count": 157,
   "metadata": {},
   "outputs": [
    {
     "data": {
      "text/plain": [
       "matrix([[ 1.01702007],\n",
       "        [ 0.85914348],\n",
       "        [-0.36579921]])"
      ]
     },
     "execution_count": 157,
     "metadata": {},
     "output_type": "execute_result"
    }
   ],
   "source": [
    "data,label = loadtext()# 继续使用testSet.txt的数据\n",
    "stoc_theta = stocgradascent(data,label)\n",
    "stoc_theta"
   ]
  },
  {
   "cell_type": "code",
   "execution_count": 158,
   "metadata": {},
   "outputs": [
    {
     "data": {
      "image/png": "[encoded data removed]",
      "text/plain": [
       "<matplotlib.figure.Figure at 0x1eb77a1e9b0>"
      ]
     },
     "metadata": {},
     "output_type": "display_data"
    }
   ],
   "source": [
    "plotline(stoc_theta)"
   ]
  },
  {
   "cell_type": "markdown",
   "metadata": {},
   "source": [
    "## 实例：从疝气病症预测病马的死亡率"
   ]
  },
  {
   "cell_type": "markdown",
   "metadata": {},
   "source": [
    "- 数据来源：http://archive.ics.uci.edu/ml/datasets/Horse+Colic\n",
    "- 有两个文件，分别为训练集horseColicTraining.txt和测试集horseColicTest.txt\n",
    "- 数据集中有21个特征，1个label（0 or 1)\n"
   ]
  },
  {
   "cell_type": "code",
   "execution_count": 159,
   "metadata": {
    "collapsed": true
   },
   "outputs": [],
   "source": [
    "def classifyfunc(x): #定义一个分类函数\n",
    "    prob = expit(x) #计算logistic函数\n",
    "    if prob > 0.5:\n",
    "        return 1.0\n",
    "    else:\n",
    "        return 0  "
   ]
  },
  {
   "cell_type": "code",
   "execution_count": 165,
   "metadata": {},
   "outputs": [
    {
     "name": "stdout",
     "output_type": "stream",
     "text": [
      "the error_rate is 0.298507\n"
     ]
    },
    {
     "data": {
      "text/plain": [
       "0.29850746268656714"
      ]
     },
     "execution_count": 165,
     "metadata": {},
     "output_type": "execute_result"
    }
   ],
   "source": [
    "def colictest(): #定义一个分类器\n",
    "    ftrain = open(\"horseColicTraining.txt\")         #打开训练集\n",
    "    ftest = open(\"horseColicTest.txt\")              #打开测试集\n",
    "    for line in ftrain.readlines():\n",
    "        currline = line.strip().split()\n",
    "        trainning_set = []                          #存放特征值的list\n",
    "        trainning_label= []                         #存放label的list\n",
    "        for i in range(21):                         #因为有21个特征\n",
    "            trainning_set.append(float(currline[i]))\n",
    "        trainning_label.append(float(currline[21]))#前21个为特征向量，最后一列为label值\n",
    "    trainning_theta = stocgradascent(trainning_set,trainning_label)\n",
    "    #计算分类准确度\n",
    "    error_count = 0\n",
    "    num_test = 0\n",
    "    for line in ftest.readlines():\n",
    "        num_test+=1\n",
    "        currline = line.strip().split()\n",
    "        linearr = []\n",
    "        for i in range(21):                         #因为有21个特征\n",
    "            linearr.append(float(currline[i]))\n",
    "        h = np.mat(linearr) * trainning_theta       #将特征值和对应的theta值相乘后相加\n",
    "        if classifyfunc(h) != int(currline[21]):    #预测值和真实值的比较\n",
    "            error_count += 1\n",
    "    error_rate = error_count / num_test             #计算分类准确度\n",
    "    print(\"the error_rate is %f\" %error_rate)\n",
    "    return error_rate\n",
    "    \n",
    "colictest()    "
   ]
  }
 ],
 "metadata": {
  "kernelspec": {
   "display_name": "Python 3",
   "language": "python",
   "name": "python3"
  },
  "language_info": {
   "codemirror_mode": {
    "name": "ipython",
    "version": 3
   },
   "file_extension": ".py",
   "mimetype": "text/x-python",
   "name": "python",
   "nbconvert_exporter": "python",
   "pygments_lexer": "ipython3",
   "version": "3.6.3"
  },
  "toc": {
   "nav_menu": {},
   "number_sections": true,
   "sideBar": true,
   "skip_h1_title": false,
   "toc_cell": false,
   "toc_position": {},
   "toc_section_display": "block",
   "toc_window_display": false
  }
 },
 "nbformat": 4,
 "nbformat_minor": 2
}
